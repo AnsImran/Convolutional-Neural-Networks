{
 "cells": [
  {
   "cell_type": "markdown",
   "metadata": {
    "id": "HZ1s_neS7t3A"
   },
   "source": [
    " - Deep Learning with Python - FRANÇOIS CHOLLET\n",
    "\n",
    "    - Ch 5. Deep learning for computer vision\n",
    "    \n",
    "        - 5.3 Using a pretrained convnet\n",
    "\n",
    "25 June 2023 - see lec 3 Q3 - Nasir hussain for more Details\n"
   ]
  },
  {
   "cell_type": "code",
   "execution_count": null,
   "metadata": {
    "colab": {
     "base_uri": "https://localhost:8080/"
    },
    "id": "SOQauGFICZY1",
    "outputId": "57037cbe-b8ef-4b7a-ba11-6bee6fccfbdd"
   },
   "outputs": [
    {
     "name": "stdout",
     "output_type": "stream",
     "text": [
      "Mounted at /content/drive\n"
     ]
    }
   ],
   "source": [
    "# Mounting the google drive\n",
    "from google.colab import drive\n",
    "drive.mount('/content/drive')\n"
   ]
  },
  {
   "cell_type": "markdown",
   "metadata": {
    "id": "SsEFZXiatLvs"
   },
   "source": [
    "### Importing the dataset from Kaggle"
   ]
  },
  {
   "cell_type": "code",
   "execution_count": null,
   "metadata": {
    "id": "zWcoAG5puZhT"
   },
   "outputs": [],
   "source": [
    "import os\n",
    "os.environ['KAGGLE_CONFIG_DIR'] = '/content'\n",
    "#..."
   ]
  },
  {
   "cell_type": "code",
   "execution_count": null,
   "metadata": {
    "colab": {
     "base_uri": "https://localhost:8080/"
    },
    "id": "mRGASVnguvs9",
    "outputId": "d319593c-1b0d-4a75-82b6-c2d59acb5dd6"
   },
   "outputs": [
    {
     "name": "stdout",
     "output_type": "stream",
     "text": [
      "Warning: Your Kaggle API key is readable by other users on this system! To fix this, you can run 'chmod 600 /content/kaggle.json'\n",
      "Downloading grapevine-leaves-image-dataset.zip to /content\n",
      " 98% 107M/109M [00:04<00:00, 37.2MB/s]\n",
      "100% 109M/109M [00:04<00:00, 23.3MB/s]\n"
     ]
    }
   ],
   "source": [
    "!kaggle datasets download -d muratkokludataset/grapevine-leaves-image-dataset\n"
   ]
  },
  {
   "cell_type": "markdown",
   "metadata": {
    "id": "Y4Ms3muotUHT"
   },
   "source": [
    "### Unzipping the Data"
   ]
  },
  {
   "cell_type": "code",
   "execution_count": null,
   "metadata": {
    "id": "OMQAy-qkvLwe"
   },
   "outputs": [],
   "source": [
    "!unzip \\*.zip && rm *.zip"
   ]
  },
  {
   "cell_type": "markdown",
   "metadata": {
    "id": "tAlTrfGxtYfs"
   },
   "source": [
    "### Creating relevant directories & transferring the data"
   ]
  },
  {
   "cell_type": "code",
   "execution_count": null,
   "metadata": {
    "id": "a1FVdNIrwE-X"
   },
   "outputs": [],
   "source": [
    "import os, shutil\n",
    "\n",
    "# creating a directory where all of the images from all classes, will be initially transferred\n",
    "original_dataset_dir  =  '/content/train/'\n",
    "os.mkdir(original_dataset_dir)\n"
   ]
  },
  {
   "cell_type": "code",
   "execution_count": null,
   "metadata": {
    "id": "vQiS3dV36u5P"
   },
   "outputs": [],
   "source": [
    "# Transferring all of the images to the folder 'train'\n",
    "\n",
    "source_folders = ['/content/Grapevine_Leaves_Image_Dataset/Ak', '/content/Grapevine_Leaves_Image_Dataset/Ala_Idris',\n",
    "                  '/content/Grapevine_Leaves_Image_Dataset/Buzgulu', '/content/Grapevine_Leaves_Image_Dataset/Dimnit',\n",
    "                  '/content/Grapevine_Leaves_Image_Dataset/Nazli']\n",
    "\n",
    "destination_folder = '/content/train/'\n",
    "\n",
    "\n",
    "for folder in source_folders:\n",
    "    files = os.listdir(folder)\n",
    "    for file in files:\n",
    "        src = os.path.join(folder, file)\n",
    "        shutil.move(src, destination_folder)\n",
    "\n"
   ]
  },
  {
   "cell_type": "code",
   "execution_count": null,
   "metadata": {
    "id": "Eqd1mLmIwVJ9"
   },
   "outputs": [],
   "source": [
    "# Creating base directory\n",
    "\n",
    "base_dir              =  '/content/grapevine leaves'\n",
    "\n",
    "os.mkdir(base_dir)\n",
    "\n",
    "\n",
    "# Creating train directory\n",
    "train_dir                 =    os.path.join(base_dir, 'train')\n",
    "os.mkdir(train_dir)\n",
    "\n",
    "# -----------------------\n",
    "validation_dir            =    os.path.join(base_dir, 'validation')\n",
    "os.mkdir(validation_dir)\n",
    "\n",
    "# -----------------------\n",
    "test_dir                  =    os.path.join(base_dir, 'test')\n",
    "os.mkdir(test_dir)\n"
   ]
  },
  {
   "cell_type": "code",
   "execution_count": null,
   "metadata": {
    "id": "1Xc_WY_CwkMM"
   },
   "outputs": [],
   "source": [
    "# Making folders for each class inside the directory 'train'\n",
    "\n",
    "train_Ak_dir          =  os.path.join(train_dir, 'Ak')\n",
    "os.mkdir(train_Ak_dir)\n",
    "\n",
    "train_Ala_Idris_dir   =  os.path.join(train_dir, 'Ala_Idris')\n",
    "os.mkdir(train_Ala_Idris_dir)\n",
    "\n",
    "train_Buzgulu_dir     =  os.path.join(train_dir, 'Buzgulu')\n",
    "os.mkdir(train_Buzgulu_dir)\n",
    "\n",
    "train_Dimnit_dir      =  os.path.join(train_dir, 'Dimnit')\n",
    "os.mkdir(train_Dimnit_dir)\n",
    "\n",
    "train_Nazli_dir       =  os.path.join(train_dir, 'Nazli')\n",
    "os.mkdir(train_Nazli_dir)\n",
    "\n",
    "\n",
    "# Making folders for each class inside the directory 'validation'\n",
    "validation_Ak_dir         =  os.path.join(validation_dir, 'Ak')\n",
    "os.mkdir(validation_Ak_dir)\n",
    "\n",
    "validation_Ala_Idris_dir  =  os.path.join(validation_dir, 'Ala_Idris')\n",
    "os.mkdir(validation_Ala_Idris_dir)\n",
    "\n",
    "validation_Buzgulu_dir    =  os.path.join(validation_dir, 'Buzgulu')\n",
    "os.mkdir(validation_Buzgulu_dir)\n",
    "\n",
    "validation_Dimnit_dir     =  os.path.join(validation_dir, 'Dimnit')\n",
    "os.mkdir(validation_Dimnit_dir)\n",
    "\n",
    "validation_Nazli_dir      =  os.path.join(validation_dir, 'Nazli')\n",
    "os.mkdir(validation_Nazli_dir)\n",
    "\n",
    "\n",
    "# Making folders for each class inside the directory 'validation'\n",
    "test_Ak_dir          =  os.path.join(test_dir, 'Ak')\n",
    "os.mkdir(test_Ak_dir)\n",
    "\n",
    "test_Ala_Idris_dir   =  os.path.join(test_dir, 'Ala_Idris')\n",
    "os.mkdir(test_Ala_Idris_dir)\n",
    "\n",
    "test_Buzgulu_dir     =  os.path.join(test_dir, 'Buzgulu')\n",
    "os.mkdir(test_Buzgulu_dir)\n",
    "\n",
    "test_Dimnit_dir      =  os.path.join(test_dir, 'Dimnit')\n",
    "os.mkdir(test_Dimnit_dir)\n",
    "\n",
    "test_Nazli_dir       =  os.path.join(test_dir, 'Nazli')\n",
    "os.mkdir(test_Nazli_dir)\n"
   ]
  },
  {
   "cell_type": "code",
   "execution_count": null,
   "metadata": {
    "id": "HEThTA8lzKSk"
   },
   "outputs": [],
   "source": [
    "# Transferring data for the class 'Ak' from original data set directory to the folder of classe 'Ak' inside the train directory\n",
    "fnames = [f'Ak ({i+1}).png' for i in range(50)]\n",
    "for fname in fnames:\n",
    "    src = os.path.join(original_dataset_dir, fname)\n",
    "    dst = os.path.join(train_Ak_dir, fname)\n",
    "    shutil.copyfile(src, dst)\n",
    "\n",
    "# Transferring data for the class 'Ak' from original data set directory to the folder of classe 'Ak' inside the validation directory\n",
    "fnames = [f'Ak ({i+1}).png' for i in range(50, 75)]\n",
    "for fname in fnames:\n",
    "    src  =  os.path.join(original_dataset_dir, fname)\n",
    "    dst  =  os.path.join(validation_Ak_dir,  fname)\n",
    "    shutil.copyfile(src, dst)\n",
    "\n",
    "# Transferring data for the class 'Ak' from original data set directory to the folder of classe 'Ak' inside the train directory\n",
    "fnames = [f'Ak ({i+1}).png' for i in range(75, 100)]\n",
    "for fname in fnames:\n",
    "    src = os.path.join(original_dataset_dir, fname)\n",
    "    dst = os.path.join(test_Ak_dir, fname)\n",
    "    shutil.copyfile(src, dst)\n",
    "\n",
    "\n",
    "\n",
    "# Doing same for class 'Ala_Idris'\n",
    "fnames = [f'Ala_Idris ({i+1}).png' for i in range(50)]\n",
    "for fname in fnames:\n",
    "    src = os.path.join(original_dataset_dir, fname)\n",
    "    dst = os.path.join(train_Ala_Idris_dir, fname)\n",
    "    shutil.copyfile(src, dst)\n",
    "\n",
    "fnames = [f'Ala_Idris ({i+1}).png' for i in range(50, 75)]\n",
    "for fname in fnames:\n",
    "    src  =  os.path.join(original_dataset_dir, fname)\n",
    "    dst  =  os.path.join(validation_Ala_Idris_dir,  fname)\n",
    "    shutil.copyfile(src, dst)\n",
    "\n",
    "fnames = [f'Ala_Idris ({i+1}).png' for i in range(75, 100)]\n",
    "for fname in fnames:\n",
    "    src = os.path.join(original_dataset_dir, fname)\n",
    "    dst = os.path.join(test_Ala_Idris_dir, fname)\n",
    "    shutil.copyfile(src, dst)\n",
    "\n",
    "\n",
    "\n",
    "\n",
    "\n",
    "#3: -------------------------------------------------\n",
    "fnames = [f'Buzgulu ({i+1}).png' for i in range(50)]\n",
    "for fname in fnames:\n",
    "    src = os.path.join(original_dataset_dir, fname)\n",
    "    dst = os.path.join(train_Buzgulu_dir, fname)\n",
    "    shutil.copyfile(src, dst)\n",
    "\n",
    "fnames = [f'Buzgulu ({i+1}).png' for i in range(50, 75)]\n",
    "for fname in fnames:\n",
    "    src  =  os.path.join(original_dataset_dir, fname)\n",
    "    dst  =  os.path.join(validation_Buzgulu_dir,  fname)\n",
    "    shutil.copyfile(src, dst)\n",
    "\n",
    "fnames = [f'Buzgulu ({i+1}).png' for i in range(75, 100)]\n",
    "for fname in fnames:\n",
    "    src = os.path.join(original_dataset_dir, fname)\n",
    "    dst = os.path.join(test_Buzgulu_dir, fname)\n",
    "    shutil.copyfile(src, dst)\n",
    "\n",
    "\n",
    "\n",
    "\n",
    "\n",
    "#4: -----------------------------------------------------\n",
    "fnames = [f'Dimnit ({i+1}).png' for i in range(50)]\n",
    "for fname in fnames:\n",
    "    src = os.path.join(original_dataset_dir, fname)\n",
    "    dst = os.path.join(train_Dimnit_dir, fname)\n",
    "    shutil.copyfile(src, dst)\n",
    "\n",
    "fnames = [f'Dimnit ({i+1}).png' for i in range(50, 75)]\n",
    "for fname in fnames:\n",
    "    src  =  os.path.join(original_dataset_dir, fname)\n",
    "    dst  =  os.path.join(validation_Dimnit_dir,  fname)\n",
    "    shutil.copyfile(src, dst)\n",
    "\n",
    "fnames = [f'Dimnit ({i+1}).png' for i in range(75, 100)]\n",
    "for fname in fnames:\n",
    "    src = os.path.join(original_dataset_dir, fname)\n",
    "    dst = os.path.join(test_Dimnit_dir, fname)\n",
    "    shutil.copyfile(src, dst)\n",
    "\n",
    "\n",
    "\n",
    "\n",
    "\n",
    "#5: ------------------------------------------------\n",
    "fnames = [f'Nazli ({i+1}).png' for i in range(50)]\n",
    "for fname in fnames:\n",
    "    src = os.path.join(original_dataset_dir, fname)\n",
    "    dst = os.path.join(train_Nazli_dir, fname)\n",
    "    shutil.copyfile(src, dst)\n",
    "\n",
    "fnames = [f'Nazli ({i+1}).png' for i in range(50, 75)]\n",
    "for fname in fnames:\n",
    "    src  =  os.path.join(original_dataset_dir, fname)\n",
    "    dst  =  os.path.join(validation_Nazli_dir,  fname)\n",
    "    shutil.copyfile(src, dst)\n",
    "\n",
    "fnames = [f'Nazli ({i+1}).png' for i in range(75, 100)]\n",
    "for fname in fnames:\n",
    "    src = os.path.join(original_dataset_dir, fname)\n",
    "    dst = os.path.join(test_Nazli_dir, fname)\n",
    "    shutil.copyfile(src, dst)\n"
   ]
  },
  {
   "cell_type": "code",
   "execution_count": null,
   "metadata": {
    "colab": {
     "base_uri": "https://localhost:8080/"
    },
    "id": "_oAEMBMV2VjT",
    "outputId": "424cd97e-d447-4e31-fa3f-2c422b912ed2"
   },
   "outputs": [
    {
     "name": "stdout",
     "output_type": "stream",
     "text": [
      "total training Ak images: 50\n",
      "total training Ala_Idris images: 50\n",
      "total training Buzgulu  images: 50\n",
      "total training Dimnit images: 50\n",
      "total training Nazli images: 50\n",
      "\n",
      "\n",
      "total validation Ak images: 25\n",
      "total validation Ala_Idris images: 25\n",
      "total validation Buzgulu  images: 25\n",
      "total validation Dimnit images: 25\n",
      "total validation Nazli images: 25\n",
      "\n",
      "\n",
      "total test Ak images: 25\n",
      "total test Ala_Idris images: 25\n",
      "total test Buzgulu  images: 25\n",
      "total test Dimnit images: 25\n",
      "total test Nazli images: 25\n"
     ]
    }
   ],
   "source": [
    "print('total training Ak images:'              , len(os.listdir(train_Ak_dir)))\n",
    "print('total training Ala_Idris images:'       , len(os.listdir(train_Ala_Idris_dir)))\n",
    "print('total training Buzgulu  images:'        , len(os.listdir(train_Buzgulu_dir)))\n",
    "print('total training Dimnit images:'          , len(os.listdir(train_Dimnit_dir)))\n",
    "print('total training Nazli images:'           , len(os.listdir(train_Nazli_dir)))\n",
    "print('\\n')\n",
    "\n",
    "print('total validation Ak images:'            , len(os.listdir(validation_Ak_dir)))\n",
    "print('total validation Ala_Idris images:'     , len(os.listdir(validation_Ala_Idris_dir)))\n",
    "print('total validation Buzgulu  images:'      , len(os.listdir(validation_Buzgulu_dir)))\n",
    "print('total validation Dimnit images:'        , len(os.listdir(validation_Dimnit_dir)))\n",
    "print('total validation Nazli images:'         , len(os.listdir(validation_Nazli_dir)))\n",
    "print('\\n')\n",
    "\n",
    "print('total test Ak images:'                  , len(os.listdir(test_Ak_dir)))\n",
    "print('total test Ala_Idris images:'           , len(os.listdir(test_Ala_Idris_dir)))\n",
    "print('total test Buzgulu  images:'            , len(os.listdir(test_Buzgulu_dir)))\n",
    "print('total test Dimnit images:'              , len(os.listdir(test_Dimnit_dir)))\n",
    "print('total test Nazli images:'               , len(os.listdir(test_Nazli_dir)))\n"
   ]
  },
  {
   "cell_type": "code",
   "execution_count": null,
   "metadata": {
    "colab": {
     "base_uri": "https://localhost:8080/"
    },
    "id": "huSW9WNOdGns",
    "outputId": "4464244e-43af-4739-b668-94ed81e316e2"
   },
   "outputs": [
    {
     "name": "stdout",
     "output_type": "stream",
     "text": [
      "Downloading data from https://storage.googleapis.com/tensorflow/keras-applications/vgg16/vgg16_weights_tf_dim_ordering_tf_kernels_notop.h5\n",
      "58889256/58889256 [==============================] - 2s 0us/step\n"
     ]
    }
   ],
   "source": [
    "### Listing 5.16: Instantiating the VGG16 convolutional base\n",
    "\n",
    "from tensorflow.keras.applications import VGG16\n"
   ]
  },
  {
   "cell_type": "code",
   "execution_count": null,
   "metadata": {
    "id": "KAe0ncdSdJIA"
   },
   "outputs": [],
   "source": [
    "# defining the conv base\n",
    "conv_base = VGG16(weights      =  'imagenet',\n",
    "                  include_top  =  False,\n",
    "                  input_shape  =  (300, 300, 3))\n",
    "\n"
   ]
  },
  {
   "cell_type": "code",
   "execution_count": null,
   "metadata": {
    "colab": {
     "base_uri": "https://localhost:8080/"
    },
    "id": "udNEHz1MdOYI",
    "outputId": "ce0ce6d5-1bc9-4f5f-cf10-4a2142dee40a"
   },
   "outputs": [
    {
     "name": "stdout",
     "output_type": "stream",
     "text": [
      "Model: \"vgg16\"\n",
      "_________________________________________________________________\n",
      " Layer (type)                Output Shape              Param #   \n",
      "=================================================================\n",
      " input_4 (InputLayer)        [(None, 300, 300, 3)]     0         \n",
      "                                                                 \n",
      " block1_conv1 (Conv2D)       (None, 300, 300, 64)      1792      \n",
      "                                                                 \n",
      " block1_conv2 (Conv2D)       (None, 300, 300, 64)      36928     \n",
      "                                                                 \n",
      " block1_pool (MaxPooling2D)  (None, 150, 150, 64)      0         \n",
      "                                                                 \n",
      " block2_conv1 (Conv2D)       (None, 150, 150, 128)     73856     \n",
      "                                                                 \n",
      " block2_conv2 (Conv2D)       (None, 150, 150, 128)     147584    \n",
      "                                                                 \n",
      " block2_pool (MaxPooling2D)  (None, 75, 75, 128)       0         \n",
      "                                                                 \n",
      " block3_conv1 (Conv2D)       (None, 75, 75, 256)       295168    \n",
      "                                                                 \n",
      " block3_conv2 (Conv2D)       (None, 75, 75, 256)       590080    \n",
      "                                                                 \n",
      " block3_conv3 (Conv2D)       (None, 75, 75, 256)       590080    \n",
      "                                                                 \n",
      " block3_pool (MaxPooling2D)  (None, 37, 37, 256)       0         \n",
      "                                                                 \n",
      " block4_conv1 (Conv2D)       (None, 37, 37, 512)       1180160   \n",
      "                                                                 \n",
      " block4_conv2 (Conv2D)       (None, 37, 37, 512)       2359808   \n",
      "                                                                 \n",
      " block4_conv3 (Conv2D)       (None, 37, 37, 512)       2359808   \n",
      "                                                                 \n",
      " block4_pool (MaxPooling2D)  (None, 18, 18, 512)       0         \n",
      "                                                                 \n",
      " block5_conv1 (Conv2D)       (None, 18, 18, 512)       2359808   \n",
      "                                                                 \n",
      " block5_conv2 (Conv2D)       (None, 18, 18, 512)       2359808   \n",
      "                                                                 \n",
      " block5_conv3 (Conv2D)       (None, 18, 18, 512)       2359808   \n",
      "                                                                 \n",
      " block5_pool (MaxPooling2D)  (None, 9, 9, 512)         0         \n",
      "                                                                 \n",
      "=================================================================\n",
      "Total params: 14,714,688\n",
      "Trainable params: 14,714,688\n",
      "Non-trainable params: 0\n",
      "_________________________________________________________________\n"
     ]
    }
   ],
   "source": [
    "conv_base.summary()\n"
   ]
  },
  {
   "cell_type": "code",
   "execution_count": null,
   "metadata": {
    "id": "eFGNRGBDdSaJ"
   },
   "outputs": [],
   "source": [
    "# Extracting features of the data using the pretrained convolutional base\n",
    "\n",
    "import os\n",
    "import numpy as np\n",
    "from keras.preprocessing.image import ImageDataGenerator\n"
   ]
  },
  {
   "cell_type": "code",
   "execution_count": null,
   "metadata": {
    "id": "X22OXuUcdnfq"
   },
   "outputs": [],
   "source": [
    "# Defining the function for feature extraction - see: 'Q3 - 3 - Transfer Learning - Fast Feature Extraction'[https://www.youtube.com/watch?v=w0sfGjEVKhI]\n",
    "\n",
    "#directory:     kis directory say data aaye ga, e.g: train, validation, test etc..\n",
    "#sample_count:  kis directory main kitna data pra hay, sample count kitnay hain\n",
    "def extract_features(directory, sample_count):\n",
    "\n",
    "    features   =  np.zeros(shape=(sample_count, 9, 9, 512))\n",
    "\n",
    "    labels     =  np.zeros( shape=(sample_count, number_of_classes) )\n",
    "\n",
    "    generator  =  datagen.flow_from_directory(directory,\n",
    "                    target_size  =  (300, 300),\n",
    "                    batch_size   =  batch_size,\n",
    "                    class_mode   =  'categorical')\n",
    "\n",
    "\n",
    "    i=0\n",
    "    for inputs_batch, labels_batch in generator:\n",
    "\n",
    "        features_batch = conv_base.predict(inputs_batch)\n",
    "\n",
    "        features[i*batch_size : (i+1)*batch_size]  =  features_batch\n",
    "\n",
    "        labels[  i*batch_size : (i+1)*batch_size]  =  labels_batch\n",
    "\n",
    "        i += 1\n",
    "\n",
    "        if i * batch_size >= sample_count:\n",
    "            break\n",
    "    return features, labels\n"
   ]
  },
  {
   "cell_type": "code",
   "execution_count": null,
   "metadata": {
    "colab": {
     "base_uri": "https://localhost:8080/"
    },
    "id": "wXozVihdeGnb",
    "outputId": "56eaacfe-7ae5-46df-f459-613eba2cfe84"
   },
   "outputs": [
    {
     "name": "stdout",
     "output_type": "stream",
     "text": [
      "Found 250 images belonging to 5 classes.\n",
      "1/1 [==============================] - 0s 152ms/step\n",
      "1/1 [==============================] - 0s 33ms/step\n",
      "1/1 [==============================] - 0s 38ms/step\n",
      "1/1 [==============================] - 0s 32ms/step\n",
      "1/1 [==============================] - 0s 32ms/step\n",
      "1/1 [==============================] - 0s 32ms/step\n",
      "1/1 [==============================] - 0s 33ms/step\n",
      "1/1 [==============================] - 0s 34ms/step\n",
      "1/1 [==============================] - 0s 33ms/step\n",
      "1/1 [==============================] - 0s 33ms/step\n",
      "Found 125 images belonging to 5 classes.\n",
      "1/1 [==============================] - 0s 33ms/step\n",
      "1/1 [==============================] - 0s 32ms/step\n",
      "1/1 [==============================] - 0s 33ms/step\n",
      "1/1 [==============================] - 0s 32ms/step\n",
      "1/1 [==============================] - 0s 32ms/step\n",
      "Found 125 images belonging to 5 classes.\n",
      "1/1 [==============================] - 0s 39ms/step\n",
      "1/1 [==============================] - 0s 34ms/step\n",
      "1/1 [==============================] - 0s 41ms/step\n",
      "1/1 [==============================] - 0s 47ms/step\n",
      "1/1 [==============================] - 0s 45ms/step\n"
     ]
    }
   ],
   "source": [
    "# Extracting Feature\n",
    "\n",
    "train_features     , train_labels       = extract_features(train_dir     , 250)\n",
    "validation_features, validation_labels  = extract_features(validation_dir, 125)\n",
    "test_features      , test_labels        = extract_features(test_dir      , 125)\n"
   ]
  },
  {
   "cell_type": "code",
   "execution_count": null,
   "metadata": {
    "id": "zutlK6wpePI5"
   },
   "outputs": [],
   "source": [
    "# The extracted features are currently of shape (samples, 9, 9, 512). We’ll feed them\n",
    "# to a densely connected classifier, so, we first you must flatten them to (samples, ####):\n",
    "\n",
    "train_features       =  np.reshape(train_features      , (250, 9*9* 512))\n",
    "validation_features  =  np.reshape(validation_features , (125, 9*9* 512))\n",
    "test_features        =  np.reshape(test_features       , (125, 9*9* 512))\n"
   ]
  },
  {
   "cell_type": "code",
   "execution_count": null,
   "metadata": {
    "id": "XTbOQa76jhC7"
   },
   "outputs": [],
   "source": [
    "from tensorflow.keras import models\n",
    "from tensorflow.keras import layers\n",
    "from tensorflow.keras import optimizers\n"
   ]
  },
  {
   "cell_type": "code",
   "execution_count": null,
   "metadata": {
    "id": "OChFxEe1jStI"
   },
   "outputs": [],
   "source": [
    "# Defining the Model\n",
    "\n",
    "model = models.Sequential()\n",
    "model.add(layers.Dense(256, activation='relu', input_dim=9 * 9 * 512))\n",
    "model.add(layers.Dropout(0.5))   # see chapter 4 - for details. overfitting ho ri ho tu ye features drop kr deta hay, ye weights ko zero ni krta, weights, feautres predict krtay hain, but ye on mn say e.g yahan 50% drop kr day ga\n",
    "model.add(layers.Dense(5, activation='softmax'))\n",
    "\n",
    "\n",
    "model.compile(optimizer=optimizers.Adam(learning_rate=2e-5),\n",
    "                loss    = 'categorical_crossentropy',\n",
    "                metrics = ['acc'])\n"
   ]
  },
  {
   "cell_type": "code",
   "execution_count": null,
   "metadata": {
    "colab": {
     "base_uri": "https://localhost:8080/"
    },
    "id": "CyGU5uM5jlhF",
    "outputId": "cebac340-aa55-40dd-847c-5fe23b8ad68c"
   },
   "outputs": [
    {
     "name": "stdout",
     "output_type": "stream",
     "text": [
      "Epoch 1/30\n",
      "10/10 [==============================] - 1s 28ms/step - loss: 1.8523 - acc: 0.2160 - val_loss: 1.5183 - val_acc: 0.3440\n",
      "Epoch 2/30\n",
      "10/10 [==============================] - 0s 11ms/step - loss: 1.4588 - acc: 0.3680 - val_loss: 1.4242 - val_acc: 0.4880\n",
      "Epoch 3/30\n",
      "10/10 [==============================] - 0s 11ms/step - loss: 1.3331 - acc: 0.4360 - val_loss: 1.3605 - val_acc: 0.5440\n",
      "Epoch 4/30\n",
      "10/10 [==============================] - 0s 11ms/step - loss: 1.1932 - acc: 0.5440 - val_loss: 1.2863 - val_acc: 0.6000\n",
      "Epoch 5/30\n",
      "10/10 [==============================] - 0s 10ms/step - loss: 1.0631 - acc: 0.6800 - val_loss: 1.2296 - val_acc: 0.6320\n",
      "Epoch 6/30\n",
      "10/10 [==============================] - 0s 10ms/step - loss: 0.9699 - acc: 0.6720 - val_loss: 1.1614 - val_acc: 0.6640\n",
      "Epoch 7/30\n",
      "10/10 [==============================] - 0s 10ms/step - loss: 0.8573 - acc: 0.7720 - val_loss: 1.1189 - val_acc: 0.6720\n",
      "Epoch 8/30\n",
      "10/10 [==============================] - 0s 11ms/step - loss: 0.7606 - acc: 0.8360 - val_loss: 1.0566 - val_acc: 0.6880\n",
      "Epoch 9/30\n",
      "10/10 [==============================] - 0s 12ms/step - loss: 0.7473 - acc: 0.8160 - val_loss: 1.0237 - val_acc: 0.6960\n",
      "Epoch 10/30\n",
      "10/10 [==============================] - 0s 10ms/step - loss: 0.6724 - acc: 0.8640 - val_loss: 0.9837 - val_acc: 0.6880\n",
      "Epoch 11/30\n",
      "10/10 [==============================] - 0s 11ms/step - loss: 0.6070 - acc: 0.8840 - val_loss: 0.9534 - val_acc: 0.6960\n",
      "Epoch 12/30\n",
      "10/10 [==============================] - 0s 11ms/step - loss: 0.5873 - acc: 0.8880 - val_loss: 0.9196 - val_acc: 0.7200\n",
      "Epoch 13/30\n",
      "10/10 [==============================] - 0s 10ms/step - loss: 0.5444 - acc: 0.8960 - val_loss: 0.9318 - val_acc: 0.7040\n",
      "Epoch 14/30\n",
      "10/10 [==============================] - 0s 11ms/step - loss: 0.4929 - acc: 0.9200 - val_loss: 0.8847 - val_acc: 0.7040\n",
      "Epoch 15/30\n",
      "10/10 [==============================] - 0s 11ms/step - loss: 0.4515 - acc: 0.9200 - val_loss: 0.8744 - val_acc: 0.7040\n",
      "Epoch 16/30\n",
      "10/10 [==============================] - 0s 11ms/step - loss: 0.4389 - acc: 0.9240 - val_loss: 0.8561 - val_acc: 0.7040\n",
      "Epoch 17/30\n",
      "10/10 [==============================] - 0s 11ms/step - loss: 0.3729 - acc: 0.9440 - val_loss: 0.8301 - val_acc: 0.7040\n",
      "Epoch 18/30\n",
      "10/10 [==============================] - 0s 12ms/step - loss: 0.3848 - acc: 0.9400 - val_loss: 0.8188 - val_acc: 0.7120\n",
      "Epoch 19/30\n",
      "10/10 [==============================] - 0s 11ms/step - loss: 0.3402 - acc: 0.9560 - val_loss: 0.8147 - val_acc: 0.7200\n",
      "Epoch 20/30\n",
      "10/10 [==============================] - 0s 12ms/step - loss: 0.3289 - acc: 0.9520 - val_loss: 0.7892 - val_acc: 0.7360\n",
      "Epoch 21/30\n",
      "10/10 [==============================] - 0s 15ms/step - loss: 0.3147 - acc: 0.9600 - val_loss: 0.7873 - val_acc: 0.6960\n",
      "Epoch 22/30\n",
      "10/10 [==============================] - 0s 10ms/step - loss: 0.2892 - acc: 0.9680 - val_loss: 0.7774 - val_acc: 0.7360\n",
      "Epoch 23/30\n",
      "10/10 [==============================] - 0s 11ms/step - loss: 0.2622 - acc: 0.9760 - val_loss: 0.7533 - val_acc: 0.7200\n",
      "Epoch 24/30\n",
      "10/10 [==============================] - 0s 10ms/step - loss: 0.2384 - acc: 0.9880 - val_loss: 0.7666 - val_acc: 0.7120\n",
      "Epoch 25/30\n",
      "10/10 [==============================] - 0s 10ms/step - loss: 0.2436 - acc: 0.9720 - val_loss: 0.7507 - val_acc: 0.7120\n",
      "Epoch 26/30\n",
      "10/10 [==============================] - 0s 11ms/step - loss: 0.2436 - acc: 0.9720 - val_loss: 0.7488 - val_acc: 0.7520\n",
      "Epoch 27/30\n",
      "10/10 [==============================] - 0s 10ms/step - loss: 0.2294 - acc: 0.9680 - val_loss: 0.7455 - val_acc: 0.7120\n",
      "Epoch 28/30\n",
      "10/10 [==============================] - 0s 11ms/step - loss: 0.2244 - acc: 0.9720 - val_loss: 0.7540 - val_acc: 0.7120\n",
      "Epoch 29/30\n",
      "10/10 [==============================] - 0s 10ms/step - loss: 0.1993 - acc: 0.9840 - val_loss: 0.7225 - val_acc: 0.7120\n",
      "Epoch 30/30\n",
      "10/10 [==============================] - 0s 12ms/step - loss: 0.1763 - acc: 0.9960 - val_loss: 0.7249 - val_acc: 0.7040\n"
     ]
    }
   ],
   "source": [
    "# yahan directly sirf generator ni day sktay thay, yahan just classifier layer hay, tu features conv_base say derive kr k hi pass\n",
    "# krnay thay yahan\n",
    "history = model.fit(train_features, train_labels,\n",
    "            epochs           =  30,\n",
    "            batch_size       =  25,\n",
    "            validation_data  =  (validation_features, validation_labels))\n"
   ]
  },
  {
   "cell_type": "code",
   "execution_count": null,
   "metadata": {
    "colab": {
     "base_uri": "https://localhost:8080/",
     "height": 887
    },
    "id": "h95_yefkmZZJ",
    "outputId": "78735a1a-869b-462e-84af-32fe12999285"
   },
   "outputs": [
    {
     "data": {
      "image/png": "[encoded data removed]",
      "text/plain": [
       "<Figure size 640x480 with 1 Axes>"
      ]
     },
     "metadata": {},
     "output_type": "display_data"
    },
    {
     "data": {
      "image/png": "[encoded data removed]",
      "text/plain": [
       "<Figure size 640x480 with 1 Axes>"
      ]
     },
     "metadata": {},
     "output_type": "display_data"
    }
   ],
   "source": [
    "# Plotting the results\n",
    "\n",
    "\n",
    "import matplotlib.pyplot as plt\n",
    "\n",
    "acc      =  history.history['acc']\n",
    "val_acc  =  history.history['val_acc']\n",
    "loss     =  history.history['loss']\n",
    "val_loss =  history.history['val_loss']\n",
    "\n",
    "epochs = range(1, len(acc) + 1)\n",
    "\n",
    "plt.plot(epochs, acc    , 'bo',  label = 'Training acc')\n",
    "plt.plot(epochs, val_acc, 'b' ,  label = 'Validation acc')\n",
    "plt.title('Training and validation accuracy')\n",
    "plt.legend()\n",
    "\n",
    "plt.figure()\n",
    "\n",
    "plt.plot(epochs, loss    , 'bo', label = 'Training loss')\n",
    "plt.plot(epochs, val_loss, 'b' , label = 'Validation loss')\n",
    "plt.title('Training and validation loss')\n",
    "plt.legend()\n",
    "\n",
    "plt.show()\n"
   ]
  },
  {
   "cell_type": "markdown",
   "metadata": {
    "id": "XrYpES2YmmrY"
   },
   "source": [
    "A Validation Accuracy of 70% is acheived"
   ]
  },
  {
   "cell_type": "markdown",
   "metadata": {
    "id": "yKPiX7NsmygE"
   },
   "source": [
    "### Doing The Same, but now in a more simple & concise way\n",
    "By freezing the conv base & passing the Data directly to NN"
   ]
  },
  {
   "cell_type": "code",
   "execution_count": null,
   "metadata": {
    "id": "4_oFN6O-nYDL"
   },
   "outputs": [],
   "source": [
    "from tensorflow.keras import models\n",
    "from tensorflow.keras import layers\n"
   ]
  },
  {
   "cell_type": "code",
   "execution_count": null,
   "metadata": {
    "id": "atQjc7panCXS"
   },
   "outputs": [],
   "source": [
    "# Instantiating the VGG16 convolutional base\n",
    "\n",
    "from tensorflow.keras.applications import VGG16\n"
   ]
  },
  {
   "cell_type": "code",
   "execution_count": null,
   "metadata": {
    "id": "RYqB_rQ2nCXS"
   },
   "outputs": [],
   "source": [
    "# imagenet dataset ka naam hay, jis par VGG!^ model ko train kia gaya tha\n",
    "conv_base = VGG16(weights      =  'imagenet',\n",
    "                  include_top  =  False,\n",
    "                  input_shape  =  (300, 300, 3))\n",
    "\n"
   ]
  },
  {
   "cell_type": "code",
   "execution_count": null,
   "metadata": {
    "colab": {
     "base_uri": "https://localhost:8080/"
    },
    "id": "SujfoKCinCXT",
    "outputId": "f343eba5-6f49-4299-cba0-c9123aa0b57a"
   },
   "outputs": [
    {
     "name": "stdout",
     "output_type": "stream",
     "text": [
      "Model: \"vgg16\"\n",
      "_________________________________________________________________\n",
      " Layer (type)                Output Shape              Param #   \n",
      "=================================================================\n",
      " input_5 (InputLayer)        [(None, 300, 300, 3)]     0         \n",
      "                                                                 \n",
      " block1_conv1 (Conv2D)       (None, 300, 300, 64)      1792      \n",
      "                                                                 \n",
      " block1_conv2 (Conv2D)       (None, 300, 300, 64)      36928     \n",
      "                                                                 \n",
      " block1_pool (MaxPooling2D)  (None, 150, 150, 64)      0         \n",
      "                                                                 \n",
      " block2_conv1 (Conv2D)       (None, 150, 150, 128)     73856     \n",
      "                                                                 \n",
      " block2_conv2 (Conv2D)       (None, 150, 150, 128)     147584    \n",
      "                                                                 \n",
      " block2_pool (MaxPooling2D)  (None, 75, 75, 128)       0         \n",
      "                                                                 \n",
      " block3_conv1 (Conv2D)       (None, 75, 75, 256)       295168    \n",
      "                                                                 \n",
      " block3_conv2 (Conv2D)       (None, 75, 75, 256)       590080    \n",
      "                                                                 \n",
      " block3_conv3 (Conv2D)       (None, 75, 75, 256)       590080    \n",
      "                                                                 \n",
      " block3_pool (MaxPooling2D)  (None, 37, 37, 256)       0         \n",
      "                                                                 \n",
      " block4_conv1 (Conv2D)       (None, 37, 37, 512)       1180160   \n",
      "                                                                 \n",
      " block4_conv2 (Conv2D)       (None, 37, 37, 512)       2359808   \n",
      "                                                                 \n",
      " block4_conv3 (Conv2D)       (None, 37, 37, 512)       2359808   \n",
      "                                                                 \n",
      " block4_pool (MaxPooling2D)  (None, 18, 18, 512)       0         \n",
      "                                                                 \n",
      " block5_conv1 (Conv2D)       (None, 18, 18, 512)       2359808   \n",
      "                                                                 \n",
      " block5_conv2 (Conv2D)       (None, 18, 18, 512)       2359808   \n",
      "                                                                 \n",
      " block5_conv3 (Conv2D)       (None, 18, 18, 512)       2359808   \n",
      "                                                                 \n",
      " block5_pool (MaxPooling2D)  (None, 9, 9, 512)         0         \n",
      "                                                                 \n",
      "=================================================================\n",
      "Total params: 14,714,688\n",
      "Trainable params: 14,714,688\n",
      "Non-trainable params: 0\n",
      "_________________________________________________________________\n"
     ]
    }
   ],
   "source": [
    "conv_base.summary()\n",
    "\n",
    "# notice k picture ka size max-pooling k bad hi decrease hta hay, it means k padding lgai hui hay\n"
   ]
  },
  {
   "cell_type": "code",
   "execution_count": null,
   "metadata": {
    "id": "4TPZbK0F-a9C"
   },
   "outputs": [],
   "source": [
    "# Adding the Classifier\n",
    "\n",
    "model = models.Sequential()\n",
    "\n",
    "model.add(conv_base)\n",
    "\n",
    "model.add(layers.Flatten())\n",
    "\n",
    "model.add(layers.Dense(256, activation='relu'))\n",
    "model.add(layers.Dense(5, activation='softmax'))\n"
   ]
  },
  {
   "cell_type": "code",
   "execution_count": null,
   "metadata": {
    "colab": {
     "base_uri": "https://localhost:8080/"
    },
    "id": "hxDihJnM-_fR",
    "outputId": "b208ef93-c1c7-4a6a-9962-5cff72b03e8a"
   },
   "outputs": [
    {
     "name": "stdout",
     "output_type": "stream",
     "text": [
      "Model: \"sequential_8\"\n",
      "_________________________________________________________________\n",
      " Layer (type)                Output Shape              Param #   \n",
      "=================================================================\n",
      " vgg16 (Functional)          (None, 9, 9, 512)         14714688  \n",
      "                                                                 \n",
      " flatten (Flatten)           (None, 41472)             0         \n",
      "                                                                 \n",
      " dense_16 (Dense)            (None, 256)               10617088  \n",
      "                                                                 \n",
      " dense_17 (Dense)            (None, 5)                 1285      \n",
      "                                                                 \n",
      "=================================================================\n",
      "Total params: 25,333,061\n",
      "Trainable params: 25,333,061\n",
      "Non-trainable params: 0\n",
      "_________________________________________________________________\n"
     ]
    }
   ],
   "source": [
    " model.summary()\n"
   ]
  },
  {
   "cell_type": "code",
   "execution_count": null,
   "metadata": {
    "id": "by_v3g0k_CTI"
   },
   "outputs": [],
   "source": [
    " # Freezing the Conv base\n",
    " conv_base.trainable = False\n"
   ]
  },
  {
   "cell_type": "code",
   "execution_count": null,
   "metadata": {
    "colab": {
     "base_uri": "https://localhost:8080/"
    },
    "id": "BNCnEhmp_PGs",
    "outputId": "7e997854-0fdc-4e23-a00b-c4229791c836"
   },
   "outputs": [
    {
     "name": "stdout",
     "output_type": "stream",
     "text": [
      "Model: \"sequential_8\"\n",
      "_________________________________________________________________\n",
      " Layer (type)                Output Shape              Param #   \n",
      "=================================================================\n",
      " vgg16 (Functional)          (None, 9, 9, 512)         14714688  \n",
      "                                                                 \n",
      " flatten (Flatten)           (None, 41472)             0         \n",
      "                                                                 \n",
      " dense_16 (Dense)            (None, 256)               10617088  \n",
      "                                                                 \n",
      " dense_17 (Dense)            (None, 5)                 1285      \n",
      "                                                                 \n",
      "=================================================================\n",
      "Total params: 25,333,061\n",
      "Trainable params: 10,618,373\n",
      "Non-trainable params: 14,714,688\n",
      "_________________________________________________________________\n"
     ]
    }
   ],
   "source": [
    "model.summary()\n"
   ]
  },
  {
   "cell_type": "code",
   "execution_count": null,
   "metadata": {
    "colab": {
     "base_uri": "https://localhost:8080/"
    },
    "id": "1PWvNbWwne6H",
    "outputId": "c8fb0427-a79a-47de-bfc5-432092037b99"
   },
   "outputs": [
    {
     "name": "stdout",
     "output_type": "stream",
     "text": [
      "Found 250 images belonging to 5 classes.\n",
      "Found 125 images belonging to 5 classes.\n"
     ]
    }
   ],
   "source": [
    "# Defining Data Generators\n",
    "datagen     =  ImageDataGenerator(rescale=1./255)\n",
    "batch_size  =  25\n",
    "number_of_classes = 5\n",
    "\n",
    "\n",
    "train_generator  =  datagen.flow_from_directory(train_dir,\n",
    "                    target_size  =  (300, 300),\n",
    "                    batch_size   =  batch_size,\n",
    "                    class_mode   =  'categorical')\n",
    "\n",
    "validation_generator  =  datagen.flow_from_directory(validation_dir,\n",
    "                    target_size  =  (300, 300),\n",
    "                    batch_size   =  batch_size,\n",
    "                    class_mode   =  'categorical')\n",
    "\n"
   ]
  },
  {
   "cell_type": "code",
   "execution_count": null,
   "metadata": {
    "id": "APsLGugfoNYj"
   },
   "outputs": [],
   "source": [
    "model.compile(optimizer=optimizers.Adam(learning_rate=2e-5),\n",
    "                loss    = 'categorical_crossentropy',\n",
    "                metrics = ['acc'])\n"
   ]
  },
  {
   "cell_type": "code",
   "execution_count": null,
   "metadata": {
    "colab": {
     "base_uri": "https://localhost:8080/"
    },
    "id": "-I7pcbSioNYj",
    "outputId": "bc01028c-fd36-4b0d-b0f6-546b6d25e1f0"
   },
   "outputs": [
    {
     "name": "stdout",
     "output_type": "stream",
     "text": [
      "Epoch 1/30\n",
      "10/10 [==============================] - 5s 399ms/step - loss: 1.7282 - acc: 0.2400 - val_loss: 1.5596 - val_acc: 0.2400\n",
      "Epoch 2/30\n",
      "10/10 [==============================] - 3s 341ms/step - loss: 1.3746 - acc: 0.4840 - val_loss: 1.4321 - val_acc: 0.3600\n",
      "Epoch 3/30\n",
      "10/10 [==============================] - 4s 393ms/step - loss: 1.1609 - acc: 0.7000 - val_loss: 1.3255 - val_acc: 0.4960\n",
      "Epoch 4/30\n",
      "10/10 [==============================] - 3s 331ms/step - loss: 0.9761 - acc: 0.8280 - val_loss: 1.2134 - val_acc: 0.5920\n",
      "Epoch 5/30\n",
      "10/10 [==============================] - 3s 327ms/step - loss: 0.8311 - acc: 0.9000 - val_loss: 1.1424 - val_acc: 0.6160\n",
      "Epoch 6/30\n",
      "10/10 [==============================] - 5s 499ms/step - loss: 0.7125 - acc: 0.9160 - val_loss: 1.0787 - val_acc: 0.6560\n",
      "Epoch 7/30\n",
      "10/10 [==============================] - 3s 331ms/step - loss: 0.6181 - acc: 0.9640 - val_loss: 1.0018 - val_acc: 0.7360\n",
      "Epoch 8/30\n",
      "10/10 [==============================] - 3s 331ms/step - loss: 0.5362 - acc: 0.9480 - val_loss: 0.9963 - val_acc: 0.6720\n",
      "Epoch 9/30\n",
      "10/10 [==============================] - 5s 499ms/step - loss: 0.4699 - acc: 0.9760 - val_loss: 0.9153 - val_acc: 0.7120\n",
      "Epoch 10/30\n",
      "10/10 [==============================] - 3s 337ms/step - loss: 0.4191 - acc: 0.9760 - val_loss: 0.9045 - val_acc: 0.7280\n",
      "Epoch 11/30\n",
      "10/10 [==============================] - 3s 332ms/step - loss: 0.3710 - acc: 0.9800 - val_loss: 0.8580 - val_acc: 0.7280\n",
      "Epoch 12/30\n",
      "10/10 [==============================] - 3s 344ms/step - loss: 0.3294 - acc: 0.9800 - val_loss: 0.8413 - val_acc: 0.7360\n",
      "Epoch 13/30\n",
      "10/10 [==============================] - 4s 383ms/step - loss: 0.3003 - acc: 0.9840 - val_loss: 0.8298 - val_acc: 0.7120\n",
      "Epoch 14/30\n",
      "10/10 [==============================] - 3s 337ms/step - loss: 0.2796 - acc: 0.9920 - val_loss: 0.8004 - val_acc: 0.7280\n",
      "Epoch 15/30\n",
      "10/10 [==============================] - 3s 334ms/step - loss: 0.2517 - acc: 0.9880 - val_loss: 0.8051 - val_acc: 0.7280\n",
      "Epoch 16/30\n",
      "10/10 [==============================] - 4s 345ms/step - loss: 0.2265 - acc: 0.9920 - val_loss: 0.7776 - val_acc: 0.7440\n",
      "Epoch 17/30\n",
      "10/10 [==============================] - 3s 340ms/step - loss: 0.2124 - acc: 0.9920 - val_loss: 0.7802 - val_acc: 0.7280\n",
      "Epoch 18/30\n",
      "10/10 [==============================] - 3s 340ms/step - loss: 0.1900 - acc: 0.9960 - val_loss: 0.7519 - val_acc: 0.7360\n",
      "Epoch 19/30\n",
      "10/10 [==============================] - 4s 367ms/step - loss: 0.1759 - acc: 0.9920 - val_loss: 0.7630 - val_acc: 0.7440\n",
      "Epoch 20/30\n",
      "10/10 [==============================] - 4s 364ms/step - loss: 0.1632 - acc: 1.0000 - val_loss: 0.7408 - val_acc: 0.7280\n",
      "Epoch 21/30\n",
      "10/10 [==============================] - 4s 352ms/step - loss: 0.1524 - acc: 0.9960 - val_loss: 0.7356 - val_acc: 0.7360\n",
      "Epoch 22/30\n",
      "10/10 [==============================] - 3s 348ms/step - loss: 0.1398 - acc: 1.0000 - val_loss: 0.7362 - val_acc: 0.7360\n",
      "Epoch 23/30\n",
      "10/10 [==============================] - 4s 382ms/step - loss: 0.1309 - acc: 1.0000 - val_loss: 0.7221 - val_acc: 0.7120\n",
      "Epoch 24/30\n",
      "10/10 [==============================] - 3s 337ms/step - loss: 0.1230 - acc: 1.0000 - val_loss: 0.7250 - val_acc: 0.7520\n",
      "Epoch 25/30\n",
      "10/10 [==============================] - 3s 337ms/step - loss: 0.1154 - acc: 1.0000 - val_loss: 0.7127 - val_acc: 0.7280\n",
      "Epoch 26/30\n",
      "10/10 [==============================] - 5s 503ms/step - loss: 0.1082 - acc: 1.0000 - val_loss: 0.7184 - val_acc: 0.7520\n",
      "Epoch 27/30\n",
      "10/10 [==============================] - 3s 337ms/step - loss: 0.1029 - acc: 1.0000 - val_loss: 0.7064 - val_acc: 0.7280\n",
      "Epoch 28/30\n",
      "10/10 [==============================] - 3s 341ms/step - loss: 0.0968 - acc: 1.0000 - val_loss: 0.7040 - val_acc: 0.7360\n",
      "Epoch 29/30\n",
      "10/10 [==============================] - 3s 345ms/step - loss: 0.0907 - acc: 1.0000 - val_loss: 0.7149 - val_acc: 0.7440\n",
      "Epoch 30/30\n",
      "10/10 [==============================] - 4s 394ms/step - loss: 0.0860 - acc: 1.0000 - val_loss: 0.6901 - val_acc: 0.7280\n"
     ]
    }
   ],
   "source": [
    "history = model.fit(train_generator,\n",
    "            epochs           =  30,\n",
    "            batch_size       =  25,\n",
    "            validation_data  =  validation_generator)\n"
   ]
  },
  {
   "cell_type": "code",
   "execution_count": null,
   "metadata": {
    "colab": {
     "base_uri": "https://localhost:8080/",
     "height": 887
    },
    "id": "M2KyPnFhoZE4",
    "outputId": "a0c5d3f7-6c36-4056-b334-b6049e7d1852"
   },
   "outputs": [
    {
     "data": {
      "image/png": "[encoded data removed]",
      "text/plain": [
       "<Figure size 640x480 with 1 Axes>"
      ]
     },
     "metadata": {},
     "output_type": "display_data"
    },
    {
     "data": {
      "image/png": "[encoded data removed]",
      "text/plain": [
       "<Figure size 640x480 with 1 Axes>"
      ]
     },
     "metadata": {},
     "output_type": "display_data"
    }
   ],
   "source": [
    "# Plotting the results\n",
    "\n",
    "\n",
    "import matplotlib.pyplot as plt\n",
    "\n",
    "acc      =  history.history['acc']\n",
    "val_acc  =  history.history['val_acc']\n",
    "loss     =  history.history['loss']\n",
    "val_loss =  history.history['val_loss']\n",
    "\n",
    "epochs = range(1, len(acc) + 1)\n",
    "\n",
    "plt.plot(epochs, acc    , 'bo',  label = 'Training acc')\n",
    "plt.plot(epochs, val_acc, 'b' ,  label = 'Validation acc')\n",
    "plt.title('Training and validation accuracy')\n",
    "plt.legend()\n",
    "\n",
    "plt.figure()\n",
    "\n",
    "plt.plot(epochs, loss    , 'bo', label = 'Training loss')\n",
    "plt.plot(epochs, val_loss, 'b' , label = 'Validation loss')\n",
    "plt.title('Training and validation loss')\n",
    "plt.legend()\n",
    "\n",
    "plt.show()\n"
   ]
  },
  {
   "cell_type": "code",
   "execution_count": null,
   "metadata": {
    "id": "7mUiUpfokYc6"
   },
   "outputs": [],
   "source": [
    "# Function to make stable predictions\n",
    "\n",
    "from matplotlib.projections.polar import Path\n",
    "import os\n",
    "import cv2\n",
    "import numpy as np\n",
    "\n",
    "def predict_folder(path):\n",
    "  # Set the path to the folder containing the images\n",
    "  folder_path = path  # Replace with the path to your folder\n",
    "\n",
    "  # Get the list of image file names in the folder\n",
    "  image_files = os.listdir(folder_path)\n",
    "\n",
    "  # Create an empty list to store the image arrays\n",
    "  image_arrays = []\n",
    "\n",
    "  # Iterate over each image file\n",
    "  for image_file in image_files:\n",
    "      # Construct the full file path\n",
    "      file_path = os.path.join(folder_path, image_file)\n",
    "\n",
    "      # Load the image\n",
    "      image = cv2.imread(file_path)\n",
    "\n",
    "      # Resize the image to the desired dimensions (n, n)\n",
    "      resized_image = cv2.resize(image, (300, 300))\n",
    "\n",
    "      # Convert the image to an array\n",
    "      image_array = np.array(resized_image)\n",
    "\n",
    "      # Normalize the image array if needed\n",
    "      image_array = image_array.astype('float32') / 255.0  # Normalize pixel values to the range [0, 1]\n",
    "\n",
    "      # Add the image array to the list\n",
    "      image_arrays.append(image_array)\n",
    "\n",
    "  # Convert the list of image arrays to a matrix\n",
    "  image_matrix = np.stack(image_arrays, axis=0)\n",
    "\n",
    "  # Make predictions using the model\n",
    "  predictions = model.predict(image_matrix)\n",
    "\n",
    "  return predictions\n"
   ]
  },
  {
   "cell_type": "code",
   "execution_count": null,
   "metadata": {
    "colab": {
     "base_uri": "https://localhost:8080/"
    },
    "id": "dwjJVVX1uhxp",
    "outputId": "b1146527-9b9f-4f7e-ee0f-09b672840bee"
   },
   "outputs": [
    {
     "name": "stdout",
     "output_type": "stream",
     "text": [
      "1/1 [==============================] - 0s 167ms/step\n",
      "1/1 [==============================] - 0s 33ms/step\n",
      "1/1 [==============================] - 0s 42ms/step\n",
      "1/1 [==============================] - 0s 37ms/step\n",
      "1/1 [==============================] - 0s 39ms/step\n",
      "predictions: \n",
      " [[1. 1. 1. 1. 1. 1. 1. 1. 1. 1. 1. 2. 1. 4. 1. 1. 1. 1. 1. 1. 1. 1. 2. 1.\n",
      "  5. 2. 5. 3. 3. 1. 2. 1. 1. 2. 2. 4. 3. 2. 2. 2. 5. 3. 3. 2. 3. 1. 2. 2.\n",
      "  5. 2. 2. 3. 2. 1. 3. 3. 3. 3. 3. 3. 3. 3. 3. 3. 3. 3. 3. 3. 5. 3. 3. 3.\n",
      "  3. 3. 3. 5. 4. 4. 4. 4. 4. 4. 4. 4. 4. 4. 1. 1. 4. 5. 4. 1. 5. 1. 4. 2.\n",
      "  4. 4. 4. 4. 4. 5. 4. 5. 5. 5. 5. 5. 5. 5. 5. 5. 5. 5. 5. 5. 4. 2. 4. 4.\n",
      "  5. 5. 5. 2. 5.]]\n",
      "\n",
      "Labels: \n",
      " [[1. 1. 1. 1. 1. 1. 1. 1. 1. 1. 1. 1. 1. 1. 1. 1. 1. 1. 1. 1. 1. 1. 1. 1.\n",
      "  1. 2. 2. 2. 2. 2. 2. 2. 2. 2. 2. 2. 2. 2. 2. 2. 2. 2. 2. 2. 2. 2. 2. 2.\n",
      "  2. 2. 3. 3. 3. 3. 3. 3. 3. 3. 3. 3. 3. 3. 3. 3. 3. 3. 3. 3. 3. 3. 3. 3.\n",
      "  3. 3. 3. 4. 4. 4. 4. 4. 4. 4. 4. 4. 4. 4. 4. 4. 4. 4. 4. 4. 4. 4. 4. 4.\n",
      "  4. 4. 4. 4. 5. 5. 5. 5. 5. 5. 5. 5. 5. 5. 5. 5. 5. 5. 5. 5. 5. 5. 5. 5.\n",
      "  5. 5. 5. 5. 5.]]\n",
      "88\n",
      "The validation accuracy is: 0.704\n"
     ]
    }
   ],
   "source": [
    "# Predictions on Validation Data\n",
    "\n",
    "p1 = predict_folder('/content/grapevine leaves/validation/Ak')\n",
    "p2 = predict_folder('/content/grapevine leaves/validation/Ala_Idris')\n",
    "p3 = predict_folder('/content/grapevine leaves/validation/Buzgulu')\n",
    "p4 = predict_folder('/content/grapevine leaves/validation/Dimnit')\n",
    "p5 = predict_folder('/content/grapevine leaves/validation/Nazli')\n",
    "\n",
    "\n",
    "# Predictions\n",
    "p = np.zeros((1,125))\n",
    "for i in range(25):\n",
    "  p[0,i]        = np.argmax( p1[i] ) + 1\n",
    "  p[0,25 + i]   = np.argmax( p2[i] ) + 1\n",
    "  p[0,50 + i]   = np.argmax( p3[i] ) + 1\n",
    "  p[0,75 + i]   = np.argmax( p4[i] ) + 1\n",
    "  p[0,100 + i]  = np.argmax( p5[i] ) + 1\n",
    "print('predictions: \\n',p)\n",
    "\n",
    "\n",
    "labels = np.zeros((1,125))\n",
    "labels[0,:25]     = 1\n",
    "labels[0,25:50]   = 2\n",
    "labels[0,50:75]   = 3\n",
    "labels[0,75:100]  = 4\n",
    "labels[0,100:125] = 5\n",
    "print('\\nLabels: \\n',labels)\n",
    "\n",
    "\n",
    "count_true = np.count_nonzero( labels == p )\n",
    "print(count_true)\n",
    "print(f'The percentage of Correct Predictions on validation data is: {(count_true/125)}')\n"
   ]
  },
  {
   "cell_type": "code",
   "execution_count": null,
   "metadata": {
    "colab": {
     "base_uri": "https://localhost:8080/"
    },
    "id": "Nj5xVmO-uMN8",
    "outputId": "b71bd49e-381c-49c2-fc23-f1731849cbcd"
   },
   "outputs": [
    {
     "name": "stdout",
     "output_type": "stream",
     "text": [
      "1/1 [==============================] - 0s 35ms/step\n",
      "1/1 [==============================] - 0s 36ms/step\n",
      "1/1 [==============================] - 0s 34ms/step\n",
      "1/1 [==============================] - 0s 43ms/step\n",
      "1/1 [==============================] - 0s 35ms/step\n",
      "predictions: \n",
      " [[4. 2. 1. 5. 1. 1. 1. 1. 1. 1. 1. 2. 1. 5. 1. 4. 1. 2. 1. 1. 1. 1. 1. 1.\n",
      "  1. 1. 1. 2. 1. 3. 1. 1. 2. 1. 5. 2. 1. 5. 3. 1. 2. 1. 2. 3. 2. 1. 2. 1.\n",
      "  1. 1. 3. 3. 3. 1. 3. 3. 3. 1. 3. 3. 3. 3. 3. 3. 3. 3. 3. 3. 3. 3. 4. 4.\n",
      "  3. 3. 2. 4. 4. 1. 4. 1. 4. 4. 1. 4. 4. 4. 1. 4. 3. 4. 1. 4. 4. 4. 4. 4.\n",
      "  4. 4. 4. 4. 5. 5. 5. 5. 4. 5. 5. 5. 4. 5. 5. 5. 5. 5. 5. 4. 5. 5. 5. 5.\n",
      "  4. 5. 5. 5. 5.]]\n",
      "\n",
      "Labels: \n",
      " [[1. 1. 1. 1. 1. 1. 1. 1. 1. 1. 1. 1. 1. 1. 1. 1. 1. 1. 1. 1. 1. 1. 1. 1.\n",
      "  1. 2. 2. 2. 2. 2. 2. 2. 2. 2. 2. 2. 2. 2. 2. 2. 2. 2. 2. 2. 2. 2. 2. 2.\n",
      "  2. 2. 3. 3. 3. 3. 3. 3. 3. 3. 3. 3. 3. 3. 3. 3. 3. 3. 3. 3. 3. 3. 3. 3.\n",
      "  3. 3. 3. 4. 4. 4. 4. 4. 4. 4. 4. 4. 4. 4. 4. 4. 4. 4. 4. 4. 4. 4. 4. 4.\n",
      "  4. 4. 4. 4. 5. 5. 5. 5. 5. 5. 5. 5. 5. 5. 5. 5. 5. 5. 5. 5. 5. 5. 5. 5.\n",
      "  5. 5. 5. 5. 5.]]\n",
      "85\n",
      "The test accuracy is: 0.68\n"
     ]
    }
   ],
   "source": [
    "# Predictions on Test Data\n",
    "\n",
    "p1 = predict_folder('/content/grapevine leaves/test/Ak')\n",
    "p2 = predict_folder('/content/grapevine leaves/test/Ala_Idris')\n",
    "p3 = predict_folder('/content/grapevine leaves/test/Buzgulu')\n",
    "p4 = predict_folder('/content/grapevine leaves/test/Dimnit')\n",
    "p5 = predict_folder('/content/grapevine leaves/test/Nazli')\n",
    "\n",
    "\n",
    "# Predictions\n",
    "p = np.zeros((1,125))\n",
    "for i in range(25):\n",
    "  p[0,i]        = np.argmax( p1[i] ) + 1\n",
    "  p[0,25 + i]   = np.argmax( p2[i] ) + 1\n",
    "  p[0,50 + i]   = np.argmax( p3[i] ) + 1\n",
    "  p[0,75 + i]   = np.argmax( p4[i] ) + 1\n",
    "  p[0,100 + i]  = np.argmax( p5[i] ) + 1\n",
    "print('predictions: \\n',p)\n",
    "\n",
    "\n",
    "labels = np.zeros((1,125))\n",
    "labels[0,:25]     = 1\n",
    "labels[0,25:50]   = 2\n",
    "labels[0,50:75]   = 3\n",
    "labels[0,75:100]  = 4\n",
    "labels[0,100:125] = 5\n",
    "print('\\nLabels: \\n',labels)\n",
    "\n",
    "\n",
    "count_true = np.count_nonzero( labels == p )\n",
    "print(count_true)\n",
    "print(f'The Percentage of Correct Predictions on test data is: {(count_true/125)}')\n"
   ]
  },
  {
   "cell_type": "code",
   "execution_count": null,
   "metadata": {
    "colab": {
     "base_uri": "https://localhost:8080/"
    },
    "id": "AclgIegJ_p4a",
    "outputId": "fcb196ab-4b22-465c-8d84-a124c8f7e222"
   },
   "outputs": [
    {
     "name": "stdout",
     "output_type": "stream",
     "text": [
      "Found 125 images belonging to 5 classes.\n",
      "5/5 [==============================] - 1s 199ms/step - loss: 0.7151 - acc: 0.7040\n",
      "test acc: 0.7039999961853027\n"
     ]
    }
   ],
   "source": [
    "# Testing the model on Test Data\n",
    "\n",
    "test_generator = datagen.flow_from_directory(\n",
    "                  test_dir,\n",
    "                  target_size  =  (300, 300),\n",
    "                  batch_size   =  25,\n",
    "                  class_mode   =  'categorical')\n",
    "\n",
    "test_loss, test_acc = model.evaluate(test_generator)\n",
    "\n",
    "print('test acc:', test_acc)\n"
   ]
  },
  {
   "cell_type": "markdown",
   "metadata": {
    "id": "7Jtuovzy7QVg"
   },
   "source": [
    "#### So, both procedures yeild same results but the training is slower in the second case, may be because we are using a generator in the second case"
   ]
  },
  {
   "cell_type": "code",
   "execution_count": null,
   "metadata": {
    "id": "92BD3osP7Rwx"
   },
   "outputs": [],
   "source": []
  }
 ],
 "metadata": {
  "accelerator": "GPU",
  "colab": {
   "gpuType": "T4",
   "provenance": []
  },
  "kernelspec": {
   "display_name": "Python 3 (ipykernel)",
   "language": "python",
   "name": "python3"
  },
  "language_info": {
   "codemirror_mode": {
    "name": "ipython",
    "version": 3
   },
   "file_extension": ".py",
   "mimetype": "text/x-python",
   "name": "python",
   "nbconvert_exporter": "python",
   "pygments_lexer": "ipython3",
   "version": "3.10.5"
  }
 },
 "nbformat": 4,
 "nbformat_minor": 1
}
