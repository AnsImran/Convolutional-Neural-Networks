{
 "cells": [
  {
   "cell_type": "markdown",
   "id": "3b18590b",
   "metadata": {},
   "source": [
    " - Deep Learning with Python - FRANÇOIS CHOLLET\n",
    "\n",
    "    - Ch 5. Deep learning for computer vision\n",
    "    \n",
    "        - 5.3 Using a pretrained convnet\n",
    "\n",
    "25 June 2023 - see lec 3 Q3 - Nasir hussain for more Details\n"
   ]
  },
  {
   "cell_type": "markdown",
   "id": "bd0c5c96",
   "metadata": {},
   "source": [
    "kia hum numeric ya text data par bhi data augmentation lga sktay hain? isay explore krna, ye bht eham chhez hay\n",
    "\n"
   ]
  },
  {
   "cell_type": "code",
   "execution_count": null,
   "id": "ff460a6d",
   "metadata": {},
   "outputs": [],
   "source": []
  }
 ],
 "metadata": {
  "kernelspec": {
   "display_name": "Python 3 (ipykernel)",
   "language": "python",
   "name": "python3"
  },
  "language_info": {
   "codemirror_mode": {
    "name": "ipython",
    "version": 3
   },
   "file_extension": ".py",
   "mimetype": "text/x-python",
   "name": "python",
   "nbconvert_exporter": "python",
   "pygments_lexer": "ipython3",
   "version": "3.10.5"
  }
 },
 "nbformat": 4,
 "nbformat_minor": 5
}
